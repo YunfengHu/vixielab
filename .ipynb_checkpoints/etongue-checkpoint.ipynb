{
 "metadata": {
  "name": "",
  "signature": "sha256:4685ed431da20cb53e65ce0a9f67191425da3b141f6ab9dd8877333ca4257320"
 },
 "nbformat": 3,
 "nbformat_minor": 0,
 "worksheets": [
  {
   "cells": [
    {
     "cell_type": "code",
     "collapsed": false,
     "input": [
      "from sklearn import tree\n",
      "from sklearn.cross_validation import train_test_split\n",
      "from sklearn.metrics import accuracy_score\n",
      "import numpy as np\n",
      "import pandas as pd\n",
      "import matplotlib.pyplot as plt\n",
      "\n",
      "\n",
      "data = pd.read_csv(\"/Users/Dusty/Documents/Machine Learning/Vixie/etongueData.csv\")\n",
      "y = data.Sample\n",
      "x = data.drop('Sample', 1)\n",
      "x_train, x_test, y_train, y_test = train_test_split(x, y, test_size = .2)\n",
      "\n",
      "clf = tree.DecisionTreeClassifier()\n",
      "clf.fit(x_train, y_train)\n",
      "\n",
      "pred = clf.predict(x_test)\n",
      "\n",
      "acc = accuracy_score(y_test, pred)\n",
      "acc"
     ],
     "language": "python",
     "metadata": {},
     "outputs": [
      {
       "metadata": {},
       "output_type": "pyout",
       "prompt_number": 3,
       "text": [
        "0.56756756756756754"
       ]
      }
     ],
     "prompt_number": 3
    },
    {
     "cell_type": "code",
     "collapsed": false,
     "input": [
      "from sklearn import svm\n",
      "clf = svm.SVC(kernel = 'linear', C = 100)\n",
      "clf.fit(x_train, y_train)\n",
      "\n",
      "pred = clf.predict(x_test)\n",
      "\n",
      "acc = accuracy_score(y_test, pred)\n",
      "acc"
     ],
     "language": "python",
     "metadata": {},
     "outputs": [
      {
       "metadata": {},
       "output_type": "pyout",
       "prompt_number": 12,
       "text": [
        "0.78378378378378377"
       ]
      }
     ],
     "prompt_number": 12
    },
    {
     "cell_type": "code",
     "collapsed": false,
     "input": [
      "from sklearn import ensemble\n",
      "clf = ensemble.RandomForestClassifier(n_estimators = 100000, n_jobs = -1)\n",
      "clf.fit(x_train, y_train)\n",
      "\n",
      "pred = clf.predict(x_test)\n",
      "\n",
      "acc = accuracy_score(y_test, pred)\n",
      "acc"
     ],
     "language": "python",
     "metadata": {},
     "outputs": [
      {
       "metadata": {},
       "output_type": "pyout",
       "prompt_number": 13,
       "text": [
        "0.91891891891891897"
       ]
      }
     ],
     "prompt_number": 13
    },
    {
     "cell_type": "code",
     "collapsed": false,
     "input": [
      "from sklearn.cluster import KMeans\n",
      "\n",
      "y2 = data.PH\n",
      "x2 = data.drop('Sample', 1)\n",
      "x2 = x2.drop('PH', 1)\n",
      "\n",
      "x_train2, x_test2, y_train2, y_test2 = train_test_split(x2, y2, test_size = .2)\n",
      "\n",
      "clf = KMeans(n_clusters = 5)\n",
      "clf.fit(x_train2, y_train2)\n",
      "\n",
      "pred = clf.predict(x_test2)\n",
      "\n",
      "pred\n",
      "\n",
      "plt.scatter(pred, y_test2)\n",
      "plt.show()"
     ],
     "language": "python",
     "metadata": {},
     "outputs": [],
     "prompt_number": 82
    },
    {
     "cell_type": "code",
     "collapsed": false,
     "input": [
      "x_test2[:,1]"
     ],
     "language": "python",
     "metadata": {},
     "outputs": [
      {
       "metadata": {},
       "output_type": "pyout",
       "prompt_number": 73,
       "text": [
        "array([ 1970.69901429,  2245.87015714,  2390.02264286,  1925.64591429,\n",
        "        2351.01342857,  1966.63101429,  2250.06891429,  2267.25621429,\n",
        "        2432.50418571,  2354.16612857,  2018.09121429,  1919.42768571,\n",
        "        2324.97822857,  2242.73198571,  2333.17234286,  2966.67617143,\n",
        "        3104.53778571,  2542.65981429,  2256.27261429,  2480.55017143,\n",
        "        2229.52551429,  2651.27541429,  1963.05698571,  1884.34118571,\n",
        "        2033.97094286,  2372.4576    ,  2240.46552857,  1990.00748571,\n",
        "        2608.93915714,  1895.97857143,  2419.83527143,  2456.02594286,\n",
        "        2369.17414286,  2335.46785714,  2302.82215714,  2318.26602857,\n",
        "        2388.17751429])"
       ]
      }
     ],
     "prompt_number": 73
    },
    {
     "cell_type": "code",
     "collapsed": false,
     "input": [
      "from dusty import dataprep\n",
      "\n",
      "x_train, x_test, y_train, y_test = dataprep('/Users/Dusty/Documents/Machine Learning/Vixie/etongueData.csv', 'Sample', .2)\n",
      "\n",
      "x_train"
     ],
     "language": "python",
     "metadata": {},
     "outputs": [
      {
       "output_type": "stream",
       "stream": "stdout",
       "text": [
        "Data not in CSV or Excel format.\n"
       ]
      },
      {
       "ename": "TypeError",
       "evalue": "'int' object is not iterable",
       "output_type": "pyerr",
       "traceback": [
        "\u001b[0;31m---------------------------------------------------------------------------\u001b[0m\n\u001b[0;31mTypeError\u001b[0m                                 Traceback (most recent call last)",
        "\u001b[0;32m<ipython-input-6-4d282a8ea98d>\u001b[0m in \u001b[0;36m<module>\u001b[0;34m()\u001b[0m\n\u001b[1;32m      1\u001b[0m \u001b[0;32mfrom\u001b[0m \u001b[0mdusty\u001b[0m \u001b[0;32mimport\u001b[0m \u001b[0mdataprep\u001b[0m\u001b[0;34m\u001b[0m\u001b[0m\n\u001b[1;32m      2\u001b[0m \u001b[0;34m\u001b[0m\u001b[0m\n\u001b[0;32m----> 3\u001b[0;31m \u001b[0mx_train\u001b[0m\u001b[0;34m,\u001b[0m \u001b[0mx_test\u001b[0m\u001b[0;34m,\u001b[0m \u001b[0my_train\u001b[0m\u001b[0;34m,\u001b[0m \u001b[0my_test\u001b[0m \u001b[0;34m=\u001b[0m \u001b[0mdataprep\u001b[0m\u001b[0;34m(\u001b[0m\u001b[0;34m'/Users/Dusty/Documents/Machine Learning/Vixie/etongueData.csv'\u001b[0m\u001b[0;34m,\u001b[0m \u001b[0;34m'Sample'\u001b[0m\u001b[0;34m,\u001b[0m \u001b[0;36m.2\u001b[0m\u001b[0;34m)\u001b[0m\u001b[0;34m\u001b[0m\u001b[0m\n\u001b[0m\u001b[1;32m      4\u001b[0m \u001b[0;34m\u001b[0m\u001b[0m\n\u001b[1;32m      5\u001b[0m \u001b[0mx_train\u001b[0m\u001b[0;34m\u001b[0m\u001b[0m\n",
        "\u001b[0;31mTypeError\u001b[0m: 'int' object is not iterable"
       ]
      }
     ],
     "prompt_number": 6
    },
    {
     "cell_type": "code",
     "collapsed": false,
     "input": [],
     "language": "python",
     "metadata": {},
     "outputs": []
    }
   ],
   "metadata": {}
  }
 ]
}